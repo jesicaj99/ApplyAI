{
 "cells": [
  {
   "cell_type": "markdown",
   "metadata": {},
   "source": [
    "# ReadMe\n",
    "\n",
    "Here is a list of some of the changes I made to get something to work. This does not mean I did all the work for you, I merely adjusted some things around to run better and fixed some logical bugs. \n",
    "\n",
    "1. I separated everything into its own cell. You can run each cell individually, and if you want to test a new part of the code you will not have to re-run all the previous code. \n",
    "2. Do not try to call and separate your data in every function. It is good practice to have a separate file for preparing the data and exporting to a new CSV file. All you would have to do from there is load your pre-made CSV into the model file. Lot cleaner. The data prep does not need to be run more than once. \n",
    "3. When putting data into a model, the data needs to be the same shape. What I mean by that is you cannot put a row of 50 items and a row of 2000 items into the same data frame. You tried something simular when defining x_warp, x_war, etc.  There are methods of making the data the same size, you can either trim the data down or you can pad the data up with a common variable (usually NaN or 0). \n",
    "4. To test your models, I had to choose random columns from one of your cvs files to use. Each file was a different size, therefore I could not use multiple files within the same model.\n",
    "5. You had all of your models working expect the KNN. It mainly comes down to the data that I was using. With a proper dataframe passed into it, it may work.  \n",
    "6. Because of the data being randomly chosen, I was not able to build a scatter plot off of it. Once you get the dataframes fixed and run through the model, then you can start looking into getting some visualization. The data that I put through the model will not make any sense to the human eye and may end up causing more problems and not working at all. "
   ]
  },
  {
   "cell_type": "markdown",
   "metadata": {},
   "source": [
    "# Importing Libraries"
   ]
  },
  {
   "cell_type": "code",
   "execution_count": 22,
   "metadata": {},
   "outputs": [],
   "source": [
    "import pandas as pd\n",
    "from DataParser import *\n",
    "import numpy as np\n",
    "from sklearn.model_selection import train_test_split\n",
    "from sklearn.linear_model import LinearRegression\n",
    "from sklearn.linear_model import Lasso\n",
    "from sklearn.linear_model import ElasticNet\n",
    "from sklearn.neighbors import KNeighborsClassifier\n",
    "from sklearn.metrics import mean_absolute_error,r2_score, mean_squared_error\n",
    "import plotly.express as px\n",
    "import re"
   ]
  },
  {
   "cell_type": "markdown",
   "metadata": {},
   "source": [
    "# Data Preperation"
   ]
  },
  {
   "cell_type": "markdown",
   "metadata": {},
   "source": [
    "## Data Preperation Function"
   ]
  },
  {
   "cell_type": "code",
   "execution_count": 97,
   "metadata": {
    "colab": {
     "base_uri": "https://localhost:8080/",
     "height": 1000
    },
    "executionInfo": {
     "elapsed": 1515,
     "status": "error",
     "timestamp": 1636489259600,
     "user": {
      "displayName": "Siddharth Nair",
      "photoUrl": "https://lh3.googleusercontent.com/a/default-user=s64",
      "userId": "03063089143896526535"
     },
     "user_tz": 360
    },
    "id": "mom6ikdWRd5D",
    "outputId": "4d909e0b-05c7-4f0b-e175-a5254ba7047a"
   },
   "outputs": [],
   "source": [
    "def data_preparation(hitter_data, hitter_pred_data, pitcher_data, pitcher_pred_data, war_values):\n",
    "# \thitter_data = clean_sorted_hitter()\n",
    "# \thitter_pred_data = clean_warp_hitter()\n",
    "# \tpitcher_data = clean_sorted_pitcher()\n",
    "# \tpitcher_pred_data = clean_warp_pitcher()\n",
    "# \t#defensive_values = clean_defensive_players() \n",
    "# \t#baserunning_values = clean_sorted_baserunning() \n",
    "# \twar_values = clean_war()\n",
    "\n",
    "    x_warp = pd.DataFrame()\n",
    "    y_warp = pd.DataFrame()\n",
    "    x_war = pd.DataFrame()\n",
    "    y_war = pd.DataFrame()\n",
    "    #multiple linear regression where x is composed of multiple variables\n",
    "\n",
    "    lastName = r'[\\S]*'\n",
    "    for index,row in hitter_pred_data.iterrows():\n",
    "        name = row['Name'].split()[1]\n",
    "        print('name: ', name)\n",
    "        for i in hitter_data['Hitters']:\n",
    "            print(i)\n",
    "        foundName = re.findall(lastName, hitter_data['Hitters'][index])\n",
    "        if len(foundName) <= 2:\n",
    "            continue\n",
    "        print('Hitters: ', foundName[2])\n",
    "        #print(hitter_data['Hitters'].values[index])\n",
    "        if foundName==name:\n",
    "            print('inside if statement')\n",
    "            x_warp.append(hitter_data[name,['K','BB','AVG','OBP','SLG']])\n",
    "            x_war.append(hitter_data[name,['K','BB','AVG','OBP','SLG']])\n",
    "            # y is pulled from a separate database that I pulled to actually get the x variables to predict a \"performance number\" rather than a correlation between two statistics \n",
    "            y_warp.append(hitter_pred_data['WARP'])\n",
    "            y_war.append(war_values['Total War'])\n",
    "        #if defensive_values.get_val(name) != \"No record found\":\n",
    "        #\tx_war+= defensive_values.get_val(name)\n",
    "        #if baserunning_values.get_val(name) != \"No record found\":\n",
    "    #\t\tx_war+= baserunning_values.get_val(name)\n",
    "    print(\"x_Warp\",x_warp)\n",
    "    print(\"y_warp\",y_warp)\n",
    "\n",
    "    # add additional factors based off of rows in the relevant cavs, (player.csv for players, pitcher.csv for pitchers)\n",
    "    x_warp_train, x_warp_test, y_warp_train, y_warp_test = train_test_split(x_warp, y_warp, test_size=.25,random_state=1)\n",
    "    x_war_train, x_war_test, y_war_train, y_war_test = train_test_split(x_war, y_war, test_size = .25,train_size = .75, random_state=1)\n",
    "# \ta_warp = []\n",
    "# \tb_warp = []\n",
    "# \ta_war=[]\n",
    "# \tb_war = []\n",
    "    for row in pitcher_pred_data.iterrows():\n",
    "        name = row['Name']\n",
    "        if pitcher_data['Pitchers'].values[0]==name:\n",
    "            a_warp = pitcher_data[name,['IP', 'BB','K','HR','ERA']]\n",
    "            # y is pulled from a separate database that I pulled to actually get the x variables to predict a \"performance number\" rather than a correlation between two statistics \n",
    "            b_warp = pitcher_pred_data['WARP']\n",
    "            b_war = war_values['Primary WAR']\n",
    "    a_warp_train, a_warp_test, b_warp_train, b_warp_test = train_test_split(a_warp,b_warp, test_size=.25,train_size = .75,random_state=1)\n",
    "    a_war_train, a_war_test, b_war_train, b_war_test = train_test_split(a_war,b_war, test_size=.25,train_size = .75,random_state=1)\n",
    "\n",
    "\n",
    "    return (x_warp_train,x_warp_test,y_warp_train,y_warp_test,x_war_train,x_war_test,y_war_train,y_war_test,a_warp_train,a_warp_test,b_warp_train,b_warp_test,a_war_train,a_war_test, b_war_train, b_war_test)"
   ]
  },
  {
   "cell_type": "markdown",
   "metadata": {},
   "source": [
    "## Loading in all CSV files"
   ]
  },
  {
   "cell_type": "code",
   "execution_count": 18,
   "metadata": {},
   "outputs": [
    {
     "name": "stderr",
     "output_type": "stream",
     "text": [
      "C:\\Users\\tuffd\\AppData\\Local\\Temp/ipykernel_18032/4042163456.py:1: DtypeWarning: Columns (2,3,4,5,6,7,8,9,10,11) have mixed types.Specify dtype option on import or set low_memory=False.\n",
      "  hitter_data = clean_sorted_hitter()\n",
      "C:\\Users\\tuffd\\AppData\\Local\\Temp/ipykernel_18032/4042163456.py:3: DtypeWarning: Columns (9,10) have mixed types.Specify dtype option on import or set low_memory=False.\n",
      "  pitcher_data = clean_sorted_pitcher()\n"
     ]
    }
   ],
   "source": [
    "# Loading in all the data\n",
    "hitter_data = clean_sorted_hitter()\n",
    "hitter_pred_data = clean_warp_hitter()\n",
    "pitcher_data = clean_sorted_pitcher()\n",
    "pitcher_pred_data = clean_warp_pitcher()\n",
    "#defensive_values = clean_defensive_players() \n",
    "#baserunning_values = clean_sorted_baserunning() \n",
    "war_values = clean_war()"
   ]
  },
  {
   "cell_type": "markdown",
   "metadata": {},
   "source": [
    "## Splitting data into Train Test Split"
   ]
  },
  {
   "cell_type": "code",
   "execution_count": 157,
   "metadata": {},
   "outputs": [],
   "source": [
    "# Splitting all the data\n",
    "x_warp = hitter_pred_data[['G', 'PA', 'AB', 'R', 'HR', 'RBI', 'SB']].values\n",
    "y_warp = hitter_pred_data['WARP'].values\n",
    "x_warp_train, x_warp_test, y_warp_train, y_warp_test = train_test_split(x_warp, y_warp, test_size=.25,random_state=1)\n",
    "x_war = hitter_data[['AB', 'R', 'H', 'RBI', 'BB', 'K', '#P']].values\n",
    "y_war = hitter_data['AVG'].values\n",
    "x_war_train, x_war_test, y_war_train, y_war_test = train_test_split(x_war, y_war, test_size = .25,train_size = .75, random_state=1)\n",
    "\n",
    "\n",
    "a_warp = hitter_pred_data[['G', 'PA', 'AB', 'R', 'HR', 'RBI', 'SB']].values\n",
    "a_war = hitter_data[['AB', 'R', 'H', 'RBI', 'BB', 'K', '#P']].values\n",
    "b_warp = hitter_pred_data['WARP'].values\n",
    "b_war = hitter_data['AVG'].values\n",
    "\n",
    "a_warp_train, a_warp_test, b_warp_train, b_warp_test = train_test_split(a_warp,b_warp, test_size=.25,train_size = .75,random_state=1)\n",
    "a_war_train, a_war_test, b_war_train, b_war_test = train_test_split(a_war,b_war, test_size=.25,train_size = .75,random_state=1)"
   ]
  },
  {
   "cell_type": "markdown",
   "metadata": {},
   "source": [
    "# Build DataFrame - Break into Train Test Split"
   ]
  },
  {
   "cell_type": "markdown",
   "metadata": {},
   "source": [
    "# Linear Model"
   ]
  },
  {
   "cell_type": "markdown",
   "metadata": {},
   "source": [
    "## Function Definition "
   ]
  },
  {
   "cell_type": "code",
   "execution_count": 158,
   "metadata": {},
   "outputs": [],
   "source": [
    "def performancelinear(x_warp_train,x_warp_test,y_warp_train,y_warp_test,x_war_train,x_war_test,y_war_train,y_war_test,a_warp_train,a_warp_test,b_warp_train,b_warp_test,a_war_train, a_war_test, b_war_train, b_war_test):\n",
    "# \tx_warp_train,x_warp_test,y_warp_train,y_warp_test,x_war_train,x_war_test,y_war_train,y_war_test,a_warp_train,a_warp_test,b_warp_train,b_warp_test,a_war_train, a_war_test, b_war_train, b_war_test = data_preparation()\n",
    "    regressor = LinearRegression()\n",
    "    regressor.fit(x_warp_train, y_warp_train)\n",
    "    y_warp_pred = regressor.predict(x_warp_test)\n",
    "    print(\"R2Linear - hitter WARP correlation: \" + str(r2_score(y_warp_test,y_warp_pred)) + \", RMSELinear - hitter WARP correlation: \" + str(mean_squared_error(y_warp_test,y_warp_pred)))\n",
    "#     print('x_war_train: ', x_war_train)\n",
    "#     print('y_war_train: ', y_war_train)\n",
    "#     regressor.fit(x_war_train, y_war_train)\n",
    "#     y_war_pred = regressor.predict(x_war_test)\n",
    "#     print(\"R2Linear - hitter WAR correlation: \" + r2_score(y_war_test,y_war_pred) + \", RMSELinear - hitter WAR correlation: \" + mean_squared_error(y_war_test,y_war_pred))\n",
    "#     regressor.fit(a_warp_train, b_warp_train)\n",
    "#     b_warp_pred = regressor.predict(a_warp_test)\n",
    "#     print(\"R2Linear - pitcher WARP correlation: \" + r2_score(b_warp_test,b_warp_pred) + \", RMSELinear - pitcher WARP correlation: \" + mean_squared_error(b_warp_test,b_warp_pred))\n",
    "#     regressor.fit(a_war_train, b_war_train)\n",
    "#     b_war_pred = regressor.predict(a_war_test)\n",
    "#     print(\"R2Linear - pitcher WAR correlation: \" + r2_score(b_war_test,b_war_pred) + \", RMSELinear - pitcher WAR correlation: \" + mean_squared_error(b_war_test,b_war_pred))\n",
    "#     figure  = px.scatter(y_warp_pred,y_warp_test, x = 'G', y = 'Actual Performance Hitter(WARP)', hover_name = y_warp_test-y_warp_pred, title = 'Actual Performance Hitter vs. Pred. Performance')\n",
    "#     figure.show()\n",
    "#     figure  = px.scatter(y_war_pred,y_war_test, x = 'Predicted Performance Hitter(Linear)', y = 'Actual Performance Hitter(WAR)', hover_name = y_war_test-y_war_pred, title = 'Actual Performance Hitter vs. Pred. Performance')\n",
    "#     figure.show()\n",
    "#     figure  = px.scatter(b_warp_pred,b_warp_test, x = 'Predicted Performance Pitcher(Linear)', y = 'Actual Performance Pitcher(WARP)', hover_name = b_warp_test-b_warp_pred, title = 'Actual Performance Pitcher vs. Pred. Performance')\n",
    "#     figure.show()\n",
    "#     figure  = px.scatter(b_war_pred,b_war_test, x = 'Predicted Performance Pitcher(Linear)', y = 'Actual Performance Pitcher(WAR)', hover_name = b_war_test-b_war_pred, title = 'Actual Performance Pitcher vs. Pred. Performance')\n",
    "#     figure.show()    "
   ]
  },
  {
   "cell_type": "markdown",
   "metadata": {},
   "source": [
    "## Calling Function"
   ]
  },
  {
   "cell_type": "code",
   "execution_count": 159,
   "metadata": {},
   "outputs": [
    {
     "name": "stdout",
     "output_type": "stream",
     "text": [
      "R2Linear - hitter WARP correlation: 0.801574018632002, RMSELinear - hitter WARP correlation: 0.3776173538390747\n"
     ]
    }
   ],
   "source": [
    "performancelinear(x_warp_train,x_warp_test,y_warp_train,y_warp_test,x_war_train,x_war_test,y_war_train,y_war_test,a_warp_train,a_warp_test,b_warp_train,b_warp_test,a_war_train, a_war_test, b_war_train, b_war_test)\n"
   ]
  },
  {
   "cell_type": "markdown",
   "metadata": {},
   "source": [
    "# Lasso Model"
   ]
  },
  {
   "cell_type": "markdown",
   "metadata": {},
   "source": [
    "## Function Definition"
   ]
  },
  {
   "cell_type": "code",
   "execution_count": 160,
   "metadata": {},
   "outputs": [],
   "source": [
    "def performancelasso(x_warp_train,x_warp_test,y_warp_train,y_warp_test,x_war_train,x_war_test,y_war_train,y_war_test,a_warp_train,a_warp_test,b_warp_train,b_warp_test,a_war_train, a_war_test, b_war_train, b_war_test):\n",
    "# \tx_warp_train,x_warp_test,y_warp_train,y_warp_test,x_war_train,x_war_test,y_war_train,y_war_test,a_warp_train,a_warp_test,b_warp_train,b_warp_test,a_war_train, a_war_test, b_war_train, b_war_test = data_preparation()\n",
    "    regressor = Lasso()\n",
    "    regressor.fit(x_warp_train, y_warp_train)\n",
    "    y_warp_pred = regressor.predict(x_warp_test)\n",
    "    print(\"R2Lasso - hitter WARP correlation: \" + str(r2_score(y_warp_test,y_warp_pred)) + \", RMSELasso - hitter WARP correlation: \" + str(mean_squared_error(y_warp_test,y_warp_pred)))\n",
    "#     regressor.fit(x_war_train, y_war_train)\n",
    "#     y_war_pred = regressor.predict(x_war_test)\n",
    "#     print(\"R2Lasso - hitter WAR correlation: \" + r2_score(y_war_test,y_war_pred) + \", RMSELasso - hitter WAR correlation: \" + mean_squared_error(y_war_test,y_war_pred))\n",
    "#     regressor.fit(a_warp_train, b_warp_train)\n",
    "#     b_warp_pred = regressor.predict(a_warp_test)\n",
    "#     print(\"R2Lasso - pitcher WARP correlation: \" + r2_score(b_warp_test,b_warp_pred) + \", RMSELasso - pitcher WARP correlation: \" + mean_squared_error(b_warp_test,b_warp_pred))\n",
    "#     regressor.fit(a_war_train, b_war_train)\n",
    "#     b_war_pred = regressor.predict(a_war_test)\n",
    "#     print(\"R2Lasso - pitcher WAR correlation: \" + r2_score(b_war_test,b_war_pred) + \", RMSELasso - pitcher WAR correlation: \" + mean_squared_error(b_war_test,b_war_pred))\n",
    "#     figure  = px.scatter(y_warp_pred,y_warp_test, x = 'Predicted Performance Hitter(Lasso)', y = 'Actual Performance Hitter(WARP)', hover_name = y_warp_test-y_warp_pred, title = 'Actual Performance Hitter vs. Pred. Performance')\n",
    "#     figure.show()\n",
    "#     figure  = px.scatter(y_war_pred,y_war_test, x = 'Predicted Performance Hitter(Lasso)', y = 'Actual Performance Hitter(WAR)', hover_name = y_war_test-y_war_pred, title = 'Actual Performance Hitter vs. Pred. Performance')\n",
    "#     figure.show()\n",
    "#     figure  = px.scatter(b_warp_pred,b_warp_test, x = 'Predicted Performance Pitcher(Lasso)', y = 'Actual Performance Pitcher(WARP)', hover_name = b_warp_test-b_warp_pred, title = 'Actual Performance Pitcher vs. Pred. Performance')\n",
    "#     figure.show()\n",
    "#     figure  = px.scatter(b_war_pred,b_war_test, x = 'Predicted Performance Pitcher(Lasso)', y = 'Actual Performance Pitcher(WAR)', hover_name = b_war_test-b_war_pred, title = 'Actual Performance Pitcher vs. Pred. Performance')\n",
    "#     figure.show()"
   ]
  },
  {
   "cell_type": "markdown",
   "metadata": {},
   "source": [
    "## Calling Function"
   ]
  },
  {
   "cell_type": "code",
   "execution_count": 161,
   "metadata": {},
   "outputs": [
    {
     "name": "stdout",
     "output_type": "stream",
     "text": [
      "R2Lasso - hitter WARP correlation: 0.7913286374097127, RMSELasso - hitter WARP correlation: 0.3971149706307906\n"
     ]
    }
   ],
   "source": [
    "performancelasso(x_warp_train,x_warp_test,y_warp_train,y_warp_test,x_war_train,x_war_test,y_war_train,y_war_test,a_warp_train,a_warp_test,b_warp_train,b_warp_test,a_war_train, a_war_test, b_war_train, b_war_test)\n"
   ]
  },
  {
   "cell_type": "markdown",
   "metadata": {},
   "source": [
    "# Elastic Model"
   ]
  },
  {
   "cell_type": "markdown",
   "metadata": {},
   "source": [
    "## Function Definition"
   ]
  },
  {
   "cell_type": "code",
   "execution_count": 162,
   "metadata": {},
   "outputs": [],
   "source": [
    "def performanceelasticnet(x_warp_train,x_warp_test,y_warp_train,y_warp_test,x_war_train,x_war_test,y_war_train,y_war_test,a_warp_train,a_warp_test,b_warp_train,b_warp_test,a_war_train, a_war_test, b_war_train, b_war_test):\n",
    "# \tx_warp_train,x_warp_test,y_warp_train,y_warp_test,x_war_train,x_war_test,y_war_train,y_war_test,a_warp_train,a_warp_test,b_warp_train,b_warp_test,a_war_train, a_war_test, b_war_train, b_war_test = data_preparation()\n",
    "    regressor = ElasticNet()\n",
    "    regressor.fit(x_warp_train,y_warp_train)\n",
    "    y_warp_pred = regressor.predict(x_warp_test)\n",
    "    print(\"R2Elastic - hitter WARP correlation: \" + str(r2_score(y_warp_test,y_warp_pred)) + \", RMSEElastic - hitter WARP correlation: \" + str(mean_squared_error(y_warp_test,y_warp_pred)))\n",
    "#     regressor.fit(x_war_train,y_war_train)\n",
    "#     y_war_pred = regressor.predict(x_war_test)\n",
    "#     print(\"R2Elastic - hitter WAR correlation: \" + r2_score(y_war_test,y_war_pred) + \", RMSEElastic - hitter WAR correlation: \" + mean_squared_error(y_war_test,y_war_pred))\n",
    "#     regressor.fit(a_warp_train, b_warp_train)\n",
    "#     b_warp_pred = regressor.predict(a_warp_test)\n",
    "#     print(\"R2Elastic - pitcher WARP correlation: \" + r2_score(b_warp_test,b_warp_pred) + \", RMSEElastic - pitcher WARP correlation: \" + mean_squared_error(b_warp_test,b_warp_pred))\n",
    "#     regressor.fit(a_war_train, b_war_train)\n",
    "#     b_war_pred = regressor.predict(a_war_test)\n",
    "#     print(\"R2Elastic - pitcher WAR correlation: \" + r2_score(b_war_test,b_war_pred) + \", RMSEElastic - pitcher WAR correlation: \" + mean_squared_error(b_war_test,b_war_pred))\n",
    "#     figure  = px.scatter(y_warp_pred,y_warp_test, x = 'Predicted Performance Hitter(Elastic Net)', y = 'Actual Performance Hitter(WARP)', hover_name = y_warp_test-y_warp_pred, title = 'Actual Performance Hitter vs. Pred. Performance')\n",
    "#     figure.show()\n",
    "#     figure  = px.scatter(y_war_pred,y_war_test, x = 'Predicted Performance Hitter(Elastic Net)', y = 'Actual Performance Hitter(WAR)', hover_name = y_war_test-y_war_pred, title = 'Actual Performance Hitter vs. Pred. Performance')\n",
    "#     figure.show()\n",
    "#     figure  = px.scatter(b_warp_pred,b_warp_test, x = 'Predicted Performance Pitcher(Elastic Net)', y = 'Actual Performance Pitcher(WARP)', hover_name = y_warp_test-y_warp_pred, title = 'Actual Performance Pitcher vs. Pred. Performance')\n",
    "#     figure.show()\n",
    "#     figure  = px.scatter(b_war_pred,b_war_test, x = 'Predicted Performance Pitcher(Elastic Net)', y = 'Actual Performance Pitcher(WAR)', hover_name = y_war_test-y_war_pred, title = 'Actual Performance Pitcher vs. Pred. Performance')\n",
    "#     figure.show()"
   ]
  },
  {
   "cell_type": "markdown",
   "metadata": {},
   "source": [
    "## Calling Function"
   ]
  },
  {
   "cell_type": "code",
   "execution_count": 163,
   "metadata": {},
   "outputs": [
    {
     "name": "stdout",
     "output_type": "stream",
     "text": [
      "R2Elastic - hitter WARP correlation: 0.8003410758550977, RMSEElastic - hitter WARP correlation: 0.3799637229266293\n"
     ]
    },
    {
     "name": "stderr",
     "output_type": "stream",
     "text": [
      "C:\\Users\\tuffd\\anaconda3\\lib\\site-packages\\sklearn\\linear_model\\_coordinate_descent.py:530: ConvergenceWarning: Objective did not converge. You might want to increase the number of iterations. Duality gap: 0.07418564858173227, tolerance: 0.06473891066282422\n",
      "  model = cd_fast.enet_coordinate_descent(\n"
     ]
    }
   ],
   "source": [
    "performanceelasticnet(x_warp_train,x_warp_test,y_warp_train,y_warp_test,x_war_train,x_war_test,y_war_train,y_war_test,a_warp_train,a_warp_test,b_warp_train,b_warp_test,a_war_train, a_war_test, b_war_train, b_war_test)\n"
   ]
  },
  {
   "cell_type": "markdown",
   "metadata": {},
   "source": [
    "# KNN Model"
   ]
  },
  {
   "cell_type": "markdown",
   "metadata": {},
   "source": [
    "## Function Definition"
   ]
  },
  {
   "cell_type": "code",
   "execution_count": 164,
   "metadata": {},
   "outputs": [],
   "source": [
    "def performanceknnvisualization(x_warp_train,x_warp_test,y_warp_train,y_warp_test,x_war_train,x_war_test,y_war_train,y_war_test,a_warp_train,a_warp_test,b_warp_train,b_warp_test,a_war_train, a_war_test, b_war_train, b_war_test):\n",
    "    model_warp_hitter = KNeighborsClassifier(n_neighbors = 3)\n",
    "    model_warp_hitter.fit(x_warp_train,y_warp_train)\n",
    "#     model_warp_pitcher = KNeighborsClassifier(n_neighbors = 3)\n",
    "#     model_warp_pitcher.fit(a_warp_train,b_warp_train)\n",
    "#     model_war_hitter = KNeighborsClassifier(n_neighbors = 3)\n",
    "#     model_war_hitter.fit(x_war_train,y_war_train)\n",
    "#     model_war_pitcher = KNeighborsClassifier(n_neighbors = 3)\n",
    "#     model_war_pitcher.fit(a_war_train,b_war_train)\n",
    "    print(\"Accuracy Score - KNN WARP hitters: \" + model_warp_hitter.score(x_warp_test,y_warp_test))\n",
    "#     print(\"Accuracy Score - KNN WARP pitchers: \" + model_warp_pitcher.score(a_warp_test,b_warp_test))\n",
    "#     print(\"Accuracy Score - KNN WAR hitters: \" + model_war_hitter.score(x_war_test,y_war_test))\n",
    "#     print(\"Accuracy Score - KNN WAR pitchers: \" + model_war_pitcher.score(a_war_test,b_war_test))"
   ]
  },
  {
   "cell_type": "markdown",
   "metadata": {},
   "source": [
    "## Calling Function"
   ]
  },
  {
   "cell_type": "code",
   "execution_count": 165,
   "metadata": {},
   "outputs": [
    {
     "ename": "ValueError",
     "evalue": "Unknown label type: 'continuous'",
     "output_type": "error",
     "traceback": [
      "\u001b[1;31m---------------------------------------------------------------------------\u001b[0m",
      "\u001b[1;31mValueError\u001b[0m                                Traceback (most recent call last)",
      "\u001b[1;32m~\\AppData\\Local\\Temp/ipykernel_18032/3494662502.py\u001b[0m in \u001b[0;36m<module>\u001b[1;34m\u001b[0m\n\u001b[1;32m----> 1\u001b[1;33m \u001b[0mperformanceknnvisualization\u001b[0m\u001b[1;33m(\u001b[0m\u001b[0mx_warp_train\u001b[0m\u001b[1;33m,\u001b[0m\u001b[0mx_warp_test\u001b[0m\u001b[1;33m,\u001b[0m\u001b[0my_warp_train\u001b[0m\u001b[1;33m,\u001b[0m\u001b[0my_warp_test\u001b[0m\u001b[1;33m,\u001b[0m\u001b[0mx_war_train\u001b[0m\u001b[1;33m,\u001b[0m\u001b[0mx_war_test\u001b[0m\u001b[1;33m,\u001b[0m\u001b[0my_war_train\u001b[0m\u001b[1;33m,\u001b[0m\u001b[0my_war_test\u001b[0m\u001b[1;33m,\u001b[0m\u001b[0ma_warp_train\u001b[0m\u001b[1;33m,\u001b[0m\u001b[0ma_warp_test\u001b[0m\u001b[1;33m,\u001b[0m\u001b[0mb_warp_train\u001b[0m\u001b[1;33m,\u001b[0m\u001b[0mb_warp_test\u001b[0m\u001b[1;33m,\u001b[0m\u001b[0ma_war_train\u001b[0m\u001b[1;33m,\u001b[0m \u001b[0ma_war_test\u001b[0m\u001b[1;33m,\u001b[0m \u001b[0mb_war_train\u001b[0m\u001b[1;33m,\u001b[0m \u001b[0mb_war_test\u001b[0m\u001b[1;33m)\u001b[0m\u001b[1;33m\u001b[0m\u001b[1;33m\u001b[0m\u001b[0m\n\u001b[0m",
      "\u001b[1;32m~\\AppData\\Local\\Temp/ipykernel_18032/1538516493.py\u001b[0m in \u001b[0;36mperformanceknnvisualization\u001b[1;34m(x_warp_train, x_warp_test, y_warp_train, y_warp_test, x_war_train, x_war_test, y_war_train, y_war_test, a_warp_train, a_warp_test, b_warp_train, b_warp_test, a_war_train, a_war_test, b_war_train, b_war_test)\u001b[0m\n\u001b[0;32m      1\u001b[0m \u001b[1;32mdef\u001b[0m \u001b[0mperformanceknnvisualization\u001b[0m\u001b[1;33m(\u001b[0m\u001b[0mx_warp_train\u001b[0m\u001b[1;33m,\u001b[0m\u001b[0mx_warp_test\u001b[0m\u001b[1;33m,\u001b[0m\u001b[0my_warp_train\u001b[0m\u001b[1;33m,\u001b[0m\u001b[0my_warp_test\u001b[0m\u001b[1;33m,\u001b[0m\u001b[0mx_war_train\u001b[0m\u001b[1;33m,\u001b[0m\u001b[0mx_war_test\u001b[0m\u001b[1;33m,\u001b[0m\u001b[0my_war_train\u001b[0m\u001b[1;33m,\u001b[0m\u001b[0my_war_test\u001b[0m\u001b[1;33m,\u001b[0m\u001b[0ma_warp_train\u001b[0m\u001b[1;33m,\u001b[0m\u001b[0ma_warp_test\u001b[0m\u001b[1;33m,\u001b[0m\u001b[0mb_warp_train\u001b[0m\u001b[1;33m,\u001b[0m\u001b[0mb_warp_test\u001b[0m\u001b[1;33m,\u001b[0m\u001b[0ma_war_train\u001b[0m\u001b[1;33m,\u001b[0m \u001b[0ma_war_test\u001b[0m\u001b[1;33m,\u001b[0m \u001b[0mb_war_train\u001b[0m\u001b[1;33m,\u001b[0m \u001b[0mb_war_test\u001b[0m\u001b[1;33m)\u001b[0m\u001b[1;33m:\u001b[0m\u001b[1;33m\u001b[0m\u001b[1;33m\u001b[0m\u001b[0m\n\u001b[0;32m      2\u001b[0m     \u001b[0mmodel_warp_hitter\u001b[0m \u001b[1;33m=\u001b[0m \u001b[0mKNeighborsClassifier\u001b[0m\u001b[1;33m(\u001b[0m\u001b[0mn_neighbors\u001b[0m \u001b[1;33m=\u001b[0m \u001b[1;36m3\u001b[0m\u001b[1;33m)\u001b[0m\u001b[1;33m\u001b[0m\u001b[1;33m\u001b[0m\u001b[0m\n\u001b[1;32m----> 3\u001b[1;33m     \u001b[0mmodel_warp_hitter\u001b[0m\u001b[1;33m.\u001b[0m\u001b[0mfit\u001b[0m\u001b[1;33m(\u001b[0m\u001b[0mx_warp_train\u001b[0m\u001b[1;33m,\u001b[0m\u001b[0my_warp_train\u001b[0m\u001b[1;33m)\u001b[0m\u001b[1;33m\u001b[0m\u001b[1;33m\u001b[0m\u001b[0m\n\u001b[0m\u001b[0;32m      4\u001b[0m \u001b[1;31m#     model_warp_pitcher = KNeighborsClassifier(n_neighbors = 3)\u001b[0m\u001b[1;33m\u001b[0m\u001b[1;33m\u001b[0m\u001b[0m\n\u001b[0;32m      5\u001b[0m \u001b[1;31m#     model_warp_pitcher.fit(a_warp_train,b_warp_train)\u001b[0m\u001b[1;33m\u001b[0m\u001b[1;33m\u001b[0m\u001b[0m\n",
      "\u001b[1;32m~\\anaconda3\\lib\\site-packages\\sklearn\\neighbors\\_classification.py\u001b[0m in \u001b[0;36mfit\u001b[1;34m(self, X, y)\u001b[0m\n\u001b[0;32m    177\u001b[0m             \u001b[0mThe\u001b[0m \u001b[0mfitted\u001b[0m \u001b[0mk\u001b[0m\u001b[1;33m-\u001b[0m\u001b[0mnearest\u001b[0m \u001b[0mneighbors\u001b[0m \u001b[0mclassifier\u001b[0m\u001b[1;33m.\u001b[0m\u001b[1;33m\u001b[0m\u001b[1;33m\u001b[0m\u001b[0m\n\u001b[0;32m    178\u001b[0m         \"\"\"\n\u001b[1;32m--> 179\u001b[1;33m         \u001b[1;32mreturn\u001b[0m \u001b[0mself\u001b[0m\u001b[1;33m.\u001b[0m\u001b[0m_fit\u001b[0m\u001b[1;33m(\u001b[0m\u001b[0mX\u001b[0m\u001b[1;33m,\u001b[0m \u001b[0my\u001b[0m\u001b[1;33m)\u001b[0m\u001b[1;33m\u001b[0m\u001b[1;33m\u001b[0m\u001b[0m\n\u001b[0m\u001b[0;32m    180\u001b[0m \u001b[1;33m\u001b[0m\u001b[0m\n\u001b[0;32m    181\u001b[0m     \u001b[1;32mdef\u001b[0m \u001b[0mpredict\u001b[0m\u001b[1;33m(\u001b[0m\u001b[0mself\u001b[0m\u001b[1;33m,\u001b[0m \u001b[0mX\u001b[0m\u001b[1;33m)\u001b[0m\u001b[1;33m:\u001b[0m\u001b[1;33m\u001b[0m\u001b[1;33m\u001b[0m\u001b[0m\n",
      "\u001b[1;32m~\\anaconda3\\lib\\site-packages\\sklearn\\neighbors\\_base.py\u001b[0m in \u001b[0;36m_fit\u001b[1;34m(self, X, y)\u001b[0m\n\u001b[0;32m    379\u001b[0m                     \u001b[0mself\u001b[0m\u001b[1;33m.\u001b[0m\u001b[0moutputs_2d_\u001b[0m \u001b[1;33m=\u001b[0m \u001b[1;32mTrue\u001b[0m\u001b[1;33m\u001b[0m\u001b[1;33m\u001b[0m\u001b[0m\n\u001b[0;32m    380\u001b[0m \u001b[1;33m\u001b[0m\u001b[0m\n\u001b[1;32m--> 381\u001b[1;33m                 \u001b[0mcheck_classification_targets\u001b[0m\u001b[1;33m(\u001b[0m\u001b[0my\u001b[0m\u001b[1;33m)\u001b[0m\u001b[1;33m\u001b[0m\u001b[1;33m\u001b[0m\u001b[0m\n\u001b[0m\u001b[0;32m    382\u001b[0m                 \u001b[0mself\u001b[0m\u001b[1;33m.\u001b[0m\u001b[0mclasses_\u001b[0m \u001b[1;33m=\u001b[0m \u001b[1;33m[\u001b[0m\u001b[1;33m]\u001b[0m\u001b[1;33m\u001b[0m\u001b[1;33m\u001b[0m\u001b[0m\n\u001b[0;32m    383\u001b[0m                 \u001b[0mself\u001b[0m\u001b[1;33m.\u001b[0m\u001b[0m_y\u001b[0m \u001b[1;33m=\u001b[0m \u001b[0mnp\u001b[0m\u001b[1;33m.\u001b[0m\u001b[0mempty\u001b[0m\u001b[1;33m(\u001b[0m\u001b[0my\u001b[0m\u001b[1;33m.\u001b[0m\u001b[0mshape\u001b[0m\u001b[1;33m,\u001b[0m \u001b[0mdtype\u001b[0m\u001b[1;33m=\u001b[0m\u001b[0mint\u001b[0m\u001b[1;33m)\u001b[0m\u001b[1;33m\u001b[0m\u001b[1;33m\u001b[0m\u001b[0m\n",
      "\u001b[1;32m~\\anaconda3\\lib\\site-packages\\sklearn\\utils\\multiclass.py\u001b[0m in \u001b[0;36mcheck_classification_targets\u001b[1;34m(y)\u001b[0m\n\u001b[0;32m    181\u001b[0m     if y_type not in ['binary', 'multiclass', 'multiclass-multioutput',\n\u001b[0;32m    182\u001b[0m                       'multilabel-indicator', 'multilabel-sequences']:\n\u001b[1;32m--> 183\u001b[1;33m         \u001b[1;32mraise\u001b[0m \u001b[0mValueError\u001b[0m\u001b[1;33m(\u001b[0m\u001b[1;34m\"Unknown label type: %r\"\u001b[0m \u001b[1;33m%\u001b[0m \u001b[0my_type\u001b[0m\u001b[1;33m)\u001b[0m\u001b[1;33m\u001b[0m\u001b[1;33m\u001b[0m\u001b[0m\n\u001b[0m\u001b[0;32m    184\u001b[0m \u001b[1;33m\u001b[0m\u001b[0m\n\u001b[0;32m    185\u001b[0m \u001b[1;33m\u001b[0m\u001b[0m\n",
      "\u001b[1;31mValueError\u001b[0m: Unknown label type: 'continuous'"
     ]
    }
   ],
   "source": [
    "performanceknnvisualization(x_warp_train,x_warp_test,y_warp_train,y_warp_test,x_war_train,x_war_test,y_war_train,y_war_test,a_warp_train,a_warp_test,b_warp_train,b_warp_test,a_war_train, a_war_test, b_war_train, b_war_test)\n"
   ]
  }
 ],
 "metadata": {
  "colab": {
   "authorship_tag": "ABX9TyP9kG3HAVfm0I/mIKz14rgc",
   "collapsed_sections": [],
   "name": "ApplyAI.ipynb",
   "provenance": []
  },
  "kernelspec": {
   "display_name": "Python 3 (ipykernel)",
   "language": "python",
   "name": "python3"
  },
  "language_info": {
   "codemirror_mode": {
    "name": "ipython",
    "version": 3
   },
   "file_extension": ".py",
   "mimetype": "text/x-python",
   "name": "python",
   "nbconvert_exporter": "python",
   "pygments_lexer": "ipython3",
   "version": "3.9.7"
  }
 },
 "nbformat": 4,
 "nbformat_minor": 1
}
